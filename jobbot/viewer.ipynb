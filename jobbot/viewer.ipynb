{
 "cells": [
  {
   "attachments": {},
   "cell_type": "markdown",
   "metadata": {},
   "source": [
    "<a href=\"https://colab.research.google.com/github/AprovanLabs/data-science/blob/main/src/jobbot/viewer.ipynb\" target=\"_parent\"><img src=\"https://colab.research.google.com/assets/colab-badge.svg\" alt=\"Open In Colab\"/></a>"
   ]
  },
  {
   "attachments": {},
   "cell_type": "markdown",
   "metadata": {},
   "source": [
    "<!-- notebooks/examples -->\n",
    "\n",
    "![Aprovan Labs](https://raw.githubusercontent.com/AprovanLabs/aprovan.com/main/docs/assets/header-labs.svg)\n",
    "<br />\n",
    "<a href=\"https://aprovan.com\">\n",
    "  <img height=\"20\" src=\"https://img.shields.io/badge/aprovan.com-ef4444?style=flat-square\" alt=\"aprovan.com\">\n",
    "</a>\n",
    "<a href=\"https://github.com/AprovanLabs/data-science\">\n",
    "  <img height=\"20\" src=\"https://img.shields.io/badge/-AprovanLabs-000000?style=flat-square&logo=GitHub&logoColor=white&link=https://github.com/AprovanLabs/\" alt=\"Aprovan Labs GitHub\" />\n",
    "</a>\n",
    "<a href=\"https://www.linkedin.com/company/aprovan\">\n",
    "  <img height=\"20\" src=\"https://img.shields.io/badge/-Aprovan-blue?style=flat-square&logo=Linkedin&logoColor=white&link=https://www.linkedin.com/company/aprovan)\" alt=\"Aprovan LinkedIn\">\n",
    "</a>\n",
    "\n",
    "<!-- <table>\n",
    "  <tr>\n",
    "    <td height=\"200\">\n",
    "        <a href=\"https://github.com/AprovanLabs\">\n",
    "          <img width=\"175\" src=\"https://raw.githubusercontent.com/AprovanLabs/aprovan.com/main/docs/assets/logo-labs.png\" alt=\"Aprovan\" />\n",
    "        </a>\n",
    "    </td>\n",
    "    <td width=\"500\">\n",
    "        <pre>Aprovan Labs / data-science</pre>\n",
    "        <br />\n",
    "        <a href=\"https://aprovan.com\">aprovan.com</a> &middot; <a href=\"https://docs.aprovan.com\">docs.aprovan.com</a>\n",
    "        </br>\n",
    "        </br>\n",
    "        <a href=\"https://github.com/AprovanLabs/data-science\">\n",
    "            <img height=\"20\" src=\"https://img.shields.io/badge/-AprovanLabs-e4405f?style=flat-square&logo=GitHub&logoColor=white&link=https://github.com/AprovanLabs/\" alt=\"Aprovan Labs GitHub\" />\n",
    "        </a>\n",
    "        <a href=\"https://www.linkedin.com/company/aprovan\">\n",
    "            <img height=\"20\" src=\"https://img.shields.io/badge/-Aprovan-blue?style=flat-square&logo=Linkedin&logoColor=white&link=https://www.linkedin.com/company/aprovan)\" alt=\"Aprovan LinkedIn\">\n",
    "        </a>\n",
    "    </td>\n",
    "  </tr>\n",
    "</table> -->\n",
    "\n",
    "# Jobbot Viewer"
   ]
  },
  {
   "cell_type": "code",
   "execution_count": 28,
   "metadata": {},
   "outputs": [
    {
     "name": "stdout",
     "output_type": "stream",
     "text": [
      "Requirement already satisfied: pandas in /Users/Jacob/Documents/Personal/data-science/.venv/lib/python3.11/site-packages (2.0.1)\n",
      "Requirement already satisfied: python-dateutil>=2.8.2 in /Users/Jacob/Documents/Personal/data-science/.venv/lib/python3.11/site-packages (from pandas) (2.8.2)\n",
      "Requirement already satisfied: pytz>=2020.1 in /Users/Jacob/Documents/Personal/data-science/.venv/lib/python3.11/site-packages (from pandas) (2023.3)\n",
      "Requirement already satisfied: tzdata>=2022.1 in /Users/Jacob/Documents/Personal/data-science/.venv/lib/python3.11/site-packages (from pandas) (2023.3)\n",
      "Requirement already satisfied: numpy>=1.21.0 in /Users/Jacob/Documents/Personal/data-science/.venv/lib/python3.11/site-packages (from pandas) (1.24.3)\n",
      "Requirement already satisfied: six>=1.5 in /Users/Jacob/Documents/Personal/data-science/.venv/lib/python3.11/site-packages (from python-dateutil>=2.8.2->pandas) (1.16.0)\n",
      "\n",
      "\u001b[1m[\u001b[0m\u001b[34;49mnotice\u001b[0m\u001b[1;39;49m]\u001b[0m\u001b[39;49m A new release of pip is available: \u001b[0m\u001b[31;49m23.0.1\u001b[0m\u001b[39;49m -> \u001b[0m\u001b[32;49m23.1.2\u001b[0m\n",
      "\u001b[1m[\u001b[0m\u001b[34;49mnotice\u001b[0m\u001b[1;39;49m]\u001b[0m\u001b[39;49m To update, run: \u001b[0m\u001b[32;49mpip install --upgrade pip\u001b[0m\n",
      "Note: you may need to restart the kernel to use updated packages.\n",
      "Requirement already satisfied: matplotlib in /Users/Jacob/Documents/Personal/data-science/.venv/lib/python3.11/site-packages (3.7.1)\n",
      "Requirement already satisfied: contourpy>=1.0.1 in /Users/Jacob/Documents/Personal/data-science/.venv/lib/python3.11/site-packages (from matplotlib) (1.1.0)\n",
      "Requirement already satisfied: cycler>=0.10 in /Users/Jacob/Documents/Personal/data-science/.venv/lib/python3.11/site-packages (from matplotlib) (0.11.0)\n",
      "Requirement already satisfied: fonttools>=4.22.0 in /Users/Jacob/Documents/Personal/data-science/.venv/lib/python3.11/site-packages (from matplotlib) (4.40.0)\n",
      "Requirement already satisfied: kiwisolver>=1.0.1 in /Users/Jacob/Documents/Personal/data-science/.venv/lib/python3.11/site-packages (from matplotlib) (1.4.4)\n",
      "Requirement already satisfied: numpy>=1.20 in /Users/Jacob/Documents/Personal/data-science/.venv/lib/python3.11/site-packages (from matplotlib) (1.24.3)\n",
      "Requirement already satisfied: packaging>=20.0 in /Users/Jacob/Documents/Personal/data-science/.venv/lib/python3.11/site-packages (from matplotlib) (23.1)\n",
      "Requirement already satisfied: pillow>=6.2.0 in /Users/Jacob/Documents/Personal/data-science/.venv/lib/python3.11/site-packages (from matplotlib) (9.5.0)\n",
      "Requirement already satisfied: pyparsing>=2.3.1 in /Users/Jacob/Documents/Personal/data-science/.venv/lib/python3.11/site-packages (from matplotlib) (3.1.0)\n",
      "Requirement already satisfied: python-dateutil>=2.7 in /Users/Jacob/Documents/Personal/data-science/.venv/lib/python3.11/site-packages (from matplotlib) (2.8.2)\n",
      "Requirement already satisfied: six>=1.5 in /Users/Jacob/Documents/Personal/data-science/.venv/lib/python3.11/site-packages (from python-dateutil>=2.7->matplotlib) (1.16.0)\n",
      "\n",
      "\u001b[1m[\u001b[0m\u001b[34;49mnotice\u001b[0m\u001b[1;39;49m]\u001b[0m\u001b[39;49m A new release of pip is available: \u001b[0m\u001b[31;49m23.0.1\u001b[0m\u001b[39;49m -> \u001b[0m\u001b[32;49m23.1.2\u001b[0m\n",
      "\u001b[1m[\u001b[0m\u001b[34;49mnotice\u001b[0m\u001b[1;39;49m]\u001b[0m\u001b[39;49m To update, run: \u001b[0m\u001b[32;49mpip install --upgrade pip\u001b[0m\n",
      "Note: you may need to restart the kernel to use updated packages.\n",
      "Requirement already satisfied: sklearn in /Users/Jacob/Documents/Personal/data-science/.venv/lib/python3.11/site-packages (0.0.post5)\n",
      "\n",
      "\u001b[1m[\u001b[0m\u001b[34;49mnotice\u001b[0m\u001b[1;39;49m]\u001b[0m\u001b[39;49m A new release of pip is available: \u001b[0m\u001b[31;49m23.0.1\u001b[0m\u001b[39;49m -> \u001b[0m\u001b[32;49m23.1.2\u001b[0m\n",
      "\u001b[1m[\u001b[0m\u001b[34;49mnotice\u001b[0m\u001b[1;39;49m]\u001b[0m\u001b[39;49m To update, run: \u001b[0m\u001b[32;49mpip install --upgrade pip\u001b[0m\n",
      "Note: you may need to restart the kernel to use updated packages.\n"
     ]
    }
   ],
   "source": [
    "%pip install pandas\n",
    "%pip install matplotlib\n",
    "%pip install sklearn\n",
    "\n",
    "%matplotlib inline"
   ]
  },
  {
   "cell_type": "code",
   "execution_count": 29,
   "metadata": {},
   "outputs": [],
   "source": [
    "import os\n",
    "import glob\n",
    "import pandas as pd\n",
    "\n",
    "OUTPUT_ROOT_DIR = \"target\"\n",
    "\n",
    "JOB_HISTORY_GLOB = glob.glob(\n",
    "    os.path.join(os.getcwd(), f\"{OUTPUT_ROOT_DIR}/job_history/*/*.json\")\n",
    ")\n",
    "CANDIDATES_GLOB = glob.glob(\n",
    "    os.path.join(os.getcwd(), f\"{OUTPUT_ROOT_DIR}/candidates/*/*.json\")\n",
    ")\n",
    "\n",
    "def read_json_dir(glob_pattern):\n",
    "    return pd.concat(\n",
    "        [\n",
    "            pd.read_json(f)\n",
    "            for f in glob_pattern\n",
    "        ],\n",
    "        ignore_index=True\n",
    "    )\n",
    "\n",
    "candidates_df = read_json_dir(CANDIDATES_GLOB)\n",
    "job_history_df = read_json_dir(JOB_HISTORY_GLOB)"
   ]
  },
  {
   "cell_type": "code",
   "execution_count": 32,
   "metadata": {},
   "outputs": [
    {
     "data": {
      "text/plain": [
       "id                     26\n",
       "resume_id              26\n",
       "name                   24\n",
       "street                 22\n",
       "city_state_zip_code    24\n",
       "phone_number           22\n",
       "email                  24\n",
       "url                    26\n",
       "spider                 26\n",
       "timestamp              26\n",
       "notes                  13\n",
       "dtype: int64"
      ]
     },
     "execution_count": 32,
     "metadata": {},
     "output_type": "execute_result"
    }
   ],
   "source": [
    "candidates_df.count()"
   ]
  },
  {
   "cell_type": "code",
   "execution_count": 38,
   "metadata": {},
   "outputs": [
    {
     "data": {
      "text/plain": [
       "id              220\n",
       "candidate_id    220\n",
       "spider          220\n",
       "timestamp       220\n",
       "title           220\n",
       "company         219\n",
       "location        120\n",
       "start_date       67\n",
       "end_date         67\n",
       "description      82\n",
       "dtype: int64"
      ]
     },
     "execution_count": 38,
     "metadata": {},
     "output_type": "execute_result"
    }
   ],
   "source": [
    "job_history_df.count()"
   ]
  }
 ],
 "metadata": {
  "kernelspec": {
   "display_name": ".venv",
   "language": "python",
   "name": "python3"
  },
  "language_info": {
   "codemirror_mode": {
    "name": "ipython",
    "version": 3
   },
   "file_extension": ".py",
   "mimetype": "text/x-python",
   "name": "python",
   "nbconvert_exporter": "python",
   "pygments_lexer": "ipython3",
   "version": "3.11.3"
  },
  "orig_nbformat": 4
 },
 "nbformat": 4,
 "nbformat_minor": 2
}
